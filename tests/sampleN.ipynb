{
 "cells": [
  {
   "cell_type": "code",
   "execution_count": 22,
   "metadata": {},
   "outputs": [
    {
     "name": "stdout",
     "output_type": "stream",
     "text": [
      "  0 : ['(0,0,1,1,Idle)', '(0,0,1,0,Idle)']\n"
     ]
    }
   ],
   "source": [
    "#data = \"[(0,0,(0.0,0.0),0,0,Idle),(1,0,(0.0,0.0),0,0,WaitPilot),(0,1,(0.0,0.0),0,0,WaitData),(0,1,(0.0,0.0),0,0,WaitData)]\"\n",
    "#data = \"[(0,0,(0.0,0.0),0,0,Idle)]\"\n",
    "#data = \"[0,0,0,1,1,1]\"\n",
    "data = \"[(0,0,1,1,Idle),(0,0,1,0,Idle)]\"\n",
    "\n",
    "singleValue = True\n",
    "level = 0\n",
    "values = [['']]\n",
    "vcounter = 0\n",
    "for d in data[1:-1]:\n",
    "    if d == '(':\n",
    "        level += 1\n",
    "        if level == 1:\n",
    "            if not singleValue:\n",
    "                continue\n",
    "    elif d == ')':\n",
    "        level -= 1\n",
    "        if level == 0:\n",
    "            vcounter = 0\n",
    "            if not singleValue:\n",
    "                continue\n",
    "    elif d == ',' and level == 0:\n",
    "        for v in values:\n",
    "            v.append('')\n",
    "        continue\n",
    "    \n",
    "    #print(f\"{level} : {d}\")\n",
    "    if d == ',' and level == 1 and not singleValue:\n",
    "        vcounter += 1\n",
    "        if len(values) < vcounter + 1:\n",
    "            values.append([''])\n",
    "    else:\n",
    "        values[vcounter][-1] += d\n",
    "\n",
    "for i, s in enumerate(values):\n",
    "        print(f\"  {i} : {s}\")"
   ]
  }
 ],
 "metadata": {
  "kernelspec": {
   "display_name": "Python 3.10.8 ('python')",
   "language": "python",
   "name": "python3"
  },
  "language_info": {
   "codemirror_mode": {
    "name": "ipython",
    "version": 3
   },
   "file_extension": ".py",
   "mimetype": "text/x-python",
   "name": "python",
   "nbconvert_exporter": "python",
   "pygments_lexer": "ipython3",
   "version": "3.10.8"
  },
  "orig_nbformat": 4,
  "vscode": {
   "interpreter": {
    "hash": "b19039b57ab408a75ec292626f0bb4d90d49370d48dc224113c676678d72d8bd"
   }
  }
 },
 "nbformat": 4,
 "nbformat_minor": 2
}
